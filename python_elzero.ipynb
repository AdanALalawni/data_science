{
  "cells": [
    {
      "cell_type": "markdown",
      "metadata": {
        "id": "view-in-github",
        "colab_type": "text"
      },
      "source": [
        "<a href=\"https://colab.research.google.com/github/AdanALalawni/data_science/blob/main/python_elzero.ipynb\" target=\"_parent\"><img src=\"https://colab.research.google.com/assets/colab-badge.svg\" alt=\"Open In Colab\"/></a>"
      ]
    },
    {
      "cell_type": "code",
      "execution_count": null,
      "metadata": {
        "colab": {
          "base_uri": "https://localhost:8080/"
        },
        "id": "nltHq4VADu3G",
        "outputId": "30cd558e-939e-4761-fffc-8dc00fea7fcf"
      },
      "outputs": [
        {
          "name": "stdout",
          "output_type": "stream",
          "text": [
            "2\n",
            "7\n"
          ]
        }
      ],
      "source": [
        "l=[1,3,4,6,4,2,4,5,5,4,3,45]\n",
        "print(l.count(5))\n",
        "print(l.index(5))"
      ]
    },
    {
      "cell_type": "code",
      "execution_count": null,
      "metadata": {
        "colab": {
          "base_uri": "https://localhost:8080/"
        },
        "id": "97BuwjmWLVfb",
        "outputId": "d9b2cec9-51bc-46e4-d317-9d163bd15c18"
      },
      "outputs": [
        {
          "name": "stdout",
          "output_type": "stream",
          "text": [
            "{1: 4, 6: 67}\n"
          ]
        }
      ],
      "source": [
        "#s={3,6,8,3,2,5,7,4,7,4,9}\n",
        "#print(s)\n",
        "#l=list(s)\n",
        "#print(l)\n",
        "d={\"name\":\"ali\"}\n",
        "#print(d.setdefault(\"age\",35))\n",
        "#print(d.items())\n",
        "t=((1,4),[6,67])\n",
        "print(dict(t))"
      ]
    },
    {
      "cell_type": "code",
      "execution_count": null,
      "metadata": {
        "colab": {
          "base_uri": "https://localhost:8080/"
        },
        "id": "dZm1SqW2ZLCg",
        "outputId": "d4498856-c7a5-45fc-c1ff-dfe67dd9ef2e"
      },
      "outputs": [
        {
          "name": "stdout",
          "output_type": "stream",
          "text": [
            "adan\n",
            "hey Adan\n"
          ]
        }
      ],
      "source": [
        "name=((input(\"\")).strip()).capitalize()\n",
        "print(f\"hey {name}\")"
      ]
    },
    {
      "cell_type": "code",
      "execution_count": null,
      "metadata": {
        "colab": {
          "base_uri": "https://localhost:8080/"
        },
        "id": "ljdiq6MYkGPD",
        "outputId": "a512e832-6fdd-483b-c54b-ee1b190e7eaa"
      },
      "outputs": [
        {
          "name": "stdout",
          "output_type": "stream",
          "text": [
            "24\n",
            "less than 35\n"
          ]
        }
      ],
      "source": [
        "age=int(input(\"\"))\n",
        "print(\"more than 35\" if age>35 else \"less than 35\")"
      ]
    },
    {
      "cell_type": "code",
      "execution_count": null,
      "metadata": {
        "colab": {
          "background_save": true,
          "base_uri": "https://localhost:8080/"
        },
        "id": "yKRIdzq-7bZ-",
        "outputId": "470188b6-fb5f-468d-fbf2-7187d55afd34"
      },
      "outputs": [
        {
          "name": "stdout",
          "output_type": "stream",
          "text": [
            "name: ali\n",
            "age: 35\n",
            "id: 19999\n"
          ]
        }
      ],
      "source": [
        "d={\n",
        "    \"name\":\"ali\",\n",
        "   \"age\":35,\n",
        "   \"id\":19999\n",
        "   }\n",
        "for i j in d.items():\n",
        "  print(i+\" \"+j)\n"
      ]
    },
    {
      "cell_type": "code",
      "source": [
        "import os\n",
        "import datetime\n",
        "#print(dir(datetime.datetime))\n",
        "print(datetime.datetime.now().year)\n",
        "print(datetime.datetime.now().time().minute)\n",
        "print(datetime.datetime.min)\n",
        "print(datetime.datetime.max)"
      ],
      "metadata": {
        "colab": {
          "base_uri": "https://localhost:8080/"
        },
        "id": "4eJUUgT4rxI2",
        "outputId": "82f23837-40ac-4e7a-8d6e-bd13eb81cd2e"
      },
      "execution_count": null,
      "outputs": [
        {
          "output_type": "stream",
          "name": "stdout",
          "text": [
            "2023\n",
            "59\n",
            "0001-01-01 00:00:00\n",
            "9999-12-31 23:59:59.999999\n"
          ]
        }
      ]
    },
    {
      "cell_type": "code",
      "source": [
        "bd=datetime.datetime(2000,3,30)\n",
        "print(bd.strftime(\"%Y-%b-%d\"))\n",
        "n=datetime.datetime.now()\n",
        "my=n-bd\n",
        "print(my.days/360)"
      ],
      "metadata": {
        "colab": {
          "base_uri": "https://localhost:8080/"
        },
        "id": "-LkbEd_BvGRB",
        "outputId": "2ecedef7-fbb6-41be-de82-c6460d66c4b1"
      },
      "execution_count": null,
      "outputs": [
        {
          "output_type": "stream",
          "name": "stdout",
          "text": [
            "2000-Mar-30\n",
            "23.980555555555554\n"
          ]
        }
      ]
    },
    {
      "cell_type": "code",
      "source": [
        "#Iterable :object contains data can be iterated upon like(list,tuple,set)\n",
        "l=[1,3,5,6,7,7]\n",
        "print(*l)\n",
        "#iterator:object used to iterated over iterable object using next() giveing one elemant at a time\n",
        "j=iter(l)\n",
        "print(next(j))\n",
        "print(next(j))\n",
        "print(next(j))\n",
        "print(next(j))\n",
        "print(next(j))\n",
        "print(next(j))"
      ],
      "metadata": {
        "colab": {
          "base_uri": "https://localhost:8080/"
        },
        "id": "sFXukTFCBuXE",
        "outputId": "dba32d34-6d5d-41d7-f4ee-3954eec155a2"
      },
      "execution_count": null,
      "outputs": [
        {
          "output_type": "stream",
          "name": "stdout",
          "text": [
            "1 3 5 6 7 7\n",
            "1\n",
            "3\n",
            "5\n",
            "6\n",
            "7\n",
            "7\n"
          ]
        }
      ]
    },
    {
      "cell_type": "code",
      "source": [
        "\"\"\"Iterable :A Python object which can be looped over or iterated over in a loop.\n",
        "Examples of iterables include lists, sets, tuples, dictionaries, strings, etc.\n",
        "Iterator:An iterator is an object that can be iterated upon. Thus, iterators contain a countable number of values.\n",
        "Generator:A special type of function which does not return a single value: it returns an iterator object with a sequence of values.\"\"\""
      ],
      "metadata": {
        "id": "9VtKPyXTEg4m"
      },
      "execution_count": null,
      "outputs": []
    },
    {
      "cell_type": "code",
      "source": [
        "# Generator : return iterator when we call it we dont start automatically it let you take control just\n",
        "def gen(x):\n",
        "  for i in range(x):\n",
        "    yield i\n",
        "x=gen(10)\n",
        "print(next(x))\n",
        "print(next(x))\n",
        "print(next(x))\n",
        "print(\"*\"*50)\n",
        "for i in x:\n",
        "  print(i)"
      ],
      "metadata": {
        "colab": {
          "base_uri": "https://localhost:8080/"
        },
        "id": "HLg5ua3pGArn",
        "outputId": "d58722f7-4902-4cb7-dcdd-e7ce82ecc1ae"
      },
      "execution_count": null,
      "outputs": [
        {
          "output_type": "stream",
          "name": "stdout",
          "text": [
            "0\n",
            "1\n",
            "2\n",
            "**************************************************\n",
            "3\n",
            "4\n",
            "5\n",
            "6\n",
            "7\n",
            "8\n",
            "9\n"
          ]
        }
      ]
    },
    {
      "cell_type": "code",
      "source": [
        "#Decorator :take the function and add functionllity and return it\n",
        "#ex1:\n",
        "def mydec(fun):\n",
        "  def nest(*num):# warparr function\n",
        "    for i in num:\n",
        "      if i<0:\n",
        "        print(\"less than zero\")\n",
        "    fun(*num)\n",
        "  return nest\n",
        "@mydec\n",
        "def sum_1(*num):\n",
        "  s=0\n",
        "  for i in num:\n",
        "    s+=i\n",
        "  print(s)\n",
        "sum_1(3,-6,79)\n",
        "print(\"*\"*80)\n",
        "#ex2:\n",
        "from time import time\n",
        "def check(fun):\n",
        "  def ins():\n",
        "    s=time()\n",
        "    fun()\n",
        "    e=time()\n",
        "    print(f\"time of execution is {e-s}\")\n",
        "  return ins\n",
        "\n",
        "def lop():\n",
        "  x=[x for x in range(10001) ]\n",
        "  print(sum(x))\n",
        "\n",
        "d=check(lop)\n",
        "d()"
      ],
      "metadata": {
        "colab": {
          "base_uri": "https://localhost:8080/"
        },
        "id": "JQIwiUmdRZI7",
        "outputId": "33fe258c-64d9-492b-e541-56579c150f6c"
      },
      "execution_count": null,
      "outputs": [
        {
          "output_type": "stream",
          "name": "stdout",
          "text": [
            "less than zero\n",
            "76\n",
            "********************************************************************************\n",
            "50005000\n",
            "time of execution is 0.0007216930389404297\n"
          ]
        }
      ]
    },
    {
      "cell_type": "code",
      "source": [
        "#Zip:take the length of the shortest list or tuple or dictonary\n",
        "#ex1:\n",
        "l_1=[1,3,5,6]\n",
        "l_2=[5,7,9,4,10]\n",
        "z= zip(l_1, l_2)\n",
        "for i in z:\n",
        "  print(i)\n",
        "#ex2:\n",
        "l=[1,3,4]\n",
        "t=(\"a\",\"b\",\"c\")\n",
        "d={\"name\":\"adan\",\"age\":23,\"id\":1999}\n",
        "for i,j,k  in zip(l,t,d):\n",
        "  print(f\"item in list is {i}\")\n",
        "  print(f\"item in tuple is {j}\")\n",
        "  print(f\"key in dictonary is {k} => value is {d[k]}\")"
      ],
      "metadata": {
        "colab": {
          "base_uri": "https://localhost:8080/"
        },
        "id": "bRd0IDTDklqr",
        "outputId": "77847226-66fa-4bd5-e609-2e1645cc33e0"
      },
      "execution_count": null,
      "outputs": [
        {
          "output_type": "stream",
          "name": "stdout",
          "text": [
            "(1, 5)\n",
            "(3, 7)\n",
            "(5, 9)\n",
            "(6, 4)\n",
            "item in list is 1\n",
            "item in tuple is a\n",
            "key in dictonary is name => value is adan\n",
            "item in list is 3\n",
            "item in tuple is b\n",
            "key in dictonary is age => value is 23\n",
            "item in list is 4\n",
            "item in tuple is c\n",
            "key in dictonary is id => value is 1999\n"
          ]
        }
      ]
    },
    {
      "cell_type": "code",
      "source": [
        "# regular expression methods:\n",
        "  #findall:Returns a list containing all matches\n",
        "  #search\t:Returns a Match object if there is a match anywhere in the string\n",
        "  #split:Returns a list where the string has been split at each match\n",
        "  #sub:Replaces one or many matches with a string\n",
        "import re\n",
        "s=\"Hey there its 90:99\"\n",
        "x=re.findall(\"[A-Z]\",s)\n",
        "y=re.search(\"[A-Z]\",s)\n",
        "print(x,y.span())\n",
        "print(re.findall(r\"[0-9][0-9]{1}\",s))\n",
        "print(re.search(\"\\d\",s))\n",
        "print(re.search(\"t\\w+\",s))\n",
        "print(re.findall(\"^Hey\",s))\n",
        "print(re.findall(\"\\s\",s))\n",
        "print(re.findall(\"th.*e\",s))\n",
        "print(re.sub(\"\\s\",\"-\",s))\n",
        "print(re.split(\"\\s\",s,2))"
      ],
      "metadata": {
        "colab": {
          "base_uri": "https://localhost:8080/"
        },
        "id": "PWmzOfMyvLMb",
        "outputId": "fff9d65c-4a76-43e4-e62f-cd3b0d6ac636"
      },
      "execution_count": null,
      "outputs": [
        {
          "output_type": "stream",
          "name": "stdout",
          "text": [
            "['H'] (0, 1)\n",
            "['90', '99']\n",
            "<re.Match object; span=(14, 15), match='9'>\n",
            "<re.Match object; span=(4, 9), match='there'>\n",
            "['Hey']\n",
            "[' ', ' ', ' ']\n",
            "['there']\n",
            "Hey-there-its-90:99\n",
            "['Hey', 'there', 'its 90:99']\n"
          ]
        }
      ]
    },
    {
      "cell_type": "code",
      "source": [
        "#OOP\n",
        "class me:\n",
        "  pass\n",
        "print(dir(me))\n"
      ],
      "metadata": {
        "colab": {
          "base_uri": "https://localhost:8080/"
        },
        "id": "32IKav0FBdKI",
        "outputId": "e2d7f3ea-6a98-4fa0-a5ce-8ec8c6b2038a"
      },
      "execution_count": null,
      "outputs": [
        {
          "output_type": "stream",
          "name": "stdout",
          "text": [
            "['__class__', '__delattr__', '__dict__', '__dir__', '__doc__', '__eq__', '__format__', '__ge__', '__getattribute__', '__gt__', '__hash__', '__init__', '__init_subclass__', '__le__', '__lt__', '__module__', '__ne__', '__new__', '__reduce__', '__reduce_ex__', '__repr__', '__setattr__', '__sizeof__', '__str__', '__subclasshook__', '__weakref__']\n",
            "<class 'type'>\n"
          ]
        }
      ]
    },
    {
      "cell_type": "code",
      "source": [
        "from datetime import datetime\n",
        "class me:\n",
        "  id=2018000\n",
        "  def __init__(self,name,age):\n",
        "    self.name=name\n",
        "    self.age=age\n",
        "    me.id+=1\n",
        "  def check (self):# called instance method\n",
        "    if self.age > 18:\n",
        "      print(\"you can access\")\n",
        "    else:\n",
        "      print(\"you cant access\")\n",
        "  def get_name(self):\n",
        "    return str(self.name).upper()\n",
        "  def info(self):\n",
        "    return f\"Hey {self.get_name()} your age at {datetime.now().year} is {self.age}\"\n",
        "\n",
        "print(me.id)\n",
        "m=me(\"adan\",23)\n",
        "print(me.id)\n",
        "print(m.get_name())\n",
        "m.check()\n",
        "print(m.info())"
      ],
      "metadata": {
        "colab": {
          "base_uri": "https://localhost:8080/"
        },
        "id": "hIVUT4CnNnFL",
        "outputId": "254f8e05-0e33-43d5-a8e3-f5f81b942802"
      },
      "execution_count": null,
      "outputs": [
        {
          "output_type": "stream",
          "name": "stdout",
          "text": [
            "2018000\n",
            "2018001\n",
            "ADAN\n",
            "you can access\n",
            "Hey ADAN your age at 2023 is 23\n"
          ]
        }
      ]
    },
    {
      "cell_type": "code",
      "source": [
        "#class method and static methods\n",
        "class hey:\n",
        "  count=0\n",
        "  def __init__(s,name,age,gender):# instance method becuse it takes self or inctance of class\n",
        "    s.name=name\n",
        "    s.age=age\n",
        "    s.gender=gender\n",
        "    hey.count+=1\n",
        "  @classmethod\n",
        "  def get_num_user(cls):# class method we can access it without create an object of calss but we access class attributs and methods\n",
        "    print(f\"the number of users is {cls.count}\")\n",
        "  @staticmethod\n",
        "  def sey_hey():# ststic method we can access it without create an object of calss but we cant  access class attributs and methods\n",
        "    print(\"hello fron hey class\")\n",
        "h=hey(\"adan\",23,\"f\")\n",
        "hey.get_num_user()\n",
        "hey.sey_hey()"
      ],
      "metadata": {
        "colab": {
          "base_uri": "https://localhost:8080/"
        },
        "id": "JuPocU6jPmGi",
        "outputId": "4f7af0e9-cf05-485c-a533-23434fa49ccb"
      },
      "execution_count": null,
      "outputs": [
        {
          "output_type": "stream",
          "name": "stdout",
          "text": [
            "the number of users is 1\n",
            "hello fron hey class\n"
          ]
        }
      ]
    },
    {
      "cell_type": "code",
      "source": [
        "#magic methods\n",
        "class ad:\n",
        "  def __init__(self,name,skils):\n",
        "    self.name=name\n",
        "    self.skils=skils\n",
        "  def __str__(self):\n",
        "    s=\" \"\n",
        "    for i in self.skils:\n",
        "      s=s+str(i)+\" \"\n",
        "    return f\"name : {self.name.upper()}  with skils :{s}\"\n",
        "  def __len__(self):\n",
        "    return len(self.skils)\n",
        "a=ad(\"anam\",[\"js\",\"css\",\"html\"])\n",
        "print(a)\n",
        "print(\"len =\",len(a))"
      ],
      "metadata": {
        "colab": {
          "base_uri": "https://localhost:8080/"
        },
        "id": "V8jW7JV2eN2m",
        "outputId": "0513d788-9ec5-4055-cad9-53c6918bae9b"
      },
      "execution_count": null,
      "outputs": [
        {
          "output_type": "stream",
          "name": "stdout",
          "text": [
            "name : ANAM  with skils : js css html \n",
            "len = 3\n"
          ]
        }
      ]
    },
    {
      "cell_type": "code",
      "source": [
        "#inheritance\n",
        "class a :\n",
        "  def __init__(self, name , id):\n",
        "    self.name=name\n",
        "    self.id=id\n",
        "    print(\"Iam in A class\")\n",
        "  def say(self):\n",
        "    print(f\" hey {self.name}\")\n",
        "class b (a) :\n",
        "  def __init__(self, name ,id , course):\n",
        "    a.__init__(self,name , id)# call base class constractor when we use this method we must pass self\n",
        "    self.course=course\n",
        "    print(\"Iam in B class\")\n",
        "class c(a):\n",
        "  def __init__(self ,name,id ,skils):\n",
        "    super().__init__(name,id)#call base class\n",
        "    self.skils=skils\n",
        "    print(\"Iam in C class\")\n",
        "A=a(\"adan\",222)\n",
        "print(\"*\"*80)\n",
        "B=b(\"adan\",222,[\"js\",\"css\"])\n",
        "print(\"*\"*80)\n",
        "C =c(\"adan\",222,[1,2,3])\n"
      ],
      "metadata": {
        "colab": {
          "base_uri": "https://localhost:8080/"
        },
        "id": "B1v4bpF8g5Ef",
        "outputId": "e8aa93e6-b3b2-43bb-87fa-b9c318c8c51f"
      },
      "execution_count": null,
      "outputs": [
        {
          "output_type": "stream",
          "name": "stdout",
          "text": [
            "Iam in A class\n",
            "********************************************************************************\n",
            "Iam in A class\n",
            "Iam in B class\n",
            "********************************************************************************\n",
            "Iam in A class\n",
            "Iam in C class\n"
          ]
        }
      ]
    },
    {
      "cell_type": "code",
      "source": [
        "#Multiple Inheritance And Method Overriding\n",
        "class a:\n",
        "  def __init__(self):\n",
        "    print(\"in a class\")\n",
        "class b :\n",
        "  i=10\n",
        "  def __init__(self):\n",
        "    print(\"in b class\")\n",
        "class c(b,a):# use the constractor of the first inhereted class\n",
        "  def get(self):\n",
        "    print(f\"the number in b {c.i}\")\n",
        "\n",
        "c=c()\n",
        "c.get()\n",
        "print(\"*\"*90)\n",
        "#################################################################\n",
        "class n:\n",
        "  i=10\n",
        "class m (n):\n",
        "  j=90\n",
        "class k (m):\n",
        "  def get(self):\n",
        "    print(k.i+k.j)\n",
        "k=k()\n",
        "k.get()\n"
      ],
      "metadata": {
        "colab": {
          "base_uri": "https://localhost:8080/"
        },
        "id": "RkDAUYPJoJkl",
        "outputId": "651e14c0-186d-459f-e08e-b98577188b28"
      },
      "execution_count": null,
      "outputs": [
        {
          "output_type": "stream",
          "name": "stdout",
          "text": [
            "in b class\n",
            "the number in b 10\n",
            "******************************************************************************************\n",
            "100\n"
          ]
        }
      ]
    },
    {
      "cell_type": "code",
      "source": [
        "from datetime import datetime\n",
        "class a:\n",
        "  def __init__(self ,n,m,k):\n",
        "    self.n=n\n",
        "    self._m=m#protected\n",
        "    self.__k=k#privet\n",
        "  @property # to use the function as attribut\n",
        "  def age(self):\n",
        "    n=datetime.now()\n",
        "    s=n-self.__k\n",
        "    return s\n",
        "x=datetime(2000,3,30)\n",
        "a=a(\"adan\",\"alawni\",x)\n",
        "print(a.age)"
      ],
      "metadata": {
        "colab": {
          "base_uri": "https://localhost:8080/"
        },
        "id": "l_jpM980wI4v",
        "outputId": "88e0fae3-0e12-4c00-bafe-5f0208d3c3d0"
      },
      "execution_count": null,
      "outputs": [
        {
          "output_type": "stream",
          "name": "stdout",
          "text": [
            "8633 days, 23:34:30.277550\n"
          ]
        }
      ]
    },
    {
      "cell_type": "code",
      "source": [
        "from types import prepare_class\n",
        "#Abstract Base Class\n",
        "from abc import ABCMeta , abstractmethod\n",
        "class a (metaclass=ABCMeta):\n",
        "  @abstractmethod\n",
        "  def say(self):# abstract method\n",
        "    pass\n",
        "  @classmethod\n",
        "  def h(cls):\n",
        "    print(\"ghhcbhb\")\n",
        "class b(a):\n",
        "  def s(self):\n",
        "    print(\"hhhhhh\")\n",
        "  def say(self):# abstract method\n",
        "    print(\"hey\")\n",
        "h=b()\n",
        "h.say()\n",
        "a.h()"
      ],
      "metadata": {
        "colab": {
          "base_uri": "https://localhost:8080/"
        },
        "id": "DH061KBuycWo",
        "outputId": "e4eaaf2a-3500-49ec-d261-0c7d16c39173"
      },
      "execution_count": null,
      "outputs": [
        {
          "output_type": "stream",
          "name": "stdout",
          "text": [
            "hey\n",
            "ghhcbhb\n"
          ]
        }
      ]
    },
    {
      "cell_type": "code",
      "source": [
        "import sys\n",
        "sys.path.append('/content/drive/MyDrive/Colab Notebooks/mod.py')\n"
      ],
      "metadata": {
        "id": "4MX9gUMp6S16"
      },
      "execution_count": null,
      "outputs": []
    },
    {
      "cell_type": "code",
      "source": [
        "import mod_py\n",
        "print(dir(mod_py))\n",
        "mod_py.add(3,5,6,78,8)"
      ],
      "metadata": {
        "colab": {
          "base_uri": "https://localhost:8080/"
        },
        "id": "NYzQ1eUl6213",
        "outputId": "d6a3dd5c-0fa0-4c09-9503-7b1c4b210a0d"
      },
      "execution_count": null,
      "outputs": [
        {
          "output_type": "stream",
          "name": "stdout",
          "text": [
            "['__builtins__', '__cached__', '__doc__', '__file__', '__loader__', '__name__', '__package__', '__spec__', 'add']\n",
            "100\n"
          ]
        }
      ]
    },
    {
      "cell_type": "code",
      "source": [
        "#test code\n",
        "import timeit\n",
        "def add():\n",
        "  return(sum(range(20)))\n",
        "print(timeit.repeat('add()',globals=globals(),repeat=3))\n",
        "print(timeit.repeat(lambda:'add()',repeat=3))"
      ],
      "metadata": {
        "colab": {
          "base_uri": "https://localhost:8080/"
        },
        "id": "S_J_8FIsBXva",
        "outputId": "cafcf055-21ae-41da-9e99-4dde566b5a78"
      },
      "execution_count": 13,
      "outputs": [
        {
          "output_type": "stream",
          "name": "stdout",
          "text": [
            "[0.34894823800004815, 0.35224916399988615, 0.35787466500005394]\n",
            "[0.0573544920000586, 0.056750690999933795, 0.05651382199994259]\n"
          ]
        }
      ]
    },
    {
      "cell_type": "code",
      "source": [
        "# assert use when we use statment that return boolean value when it return True\n",
        "#nothing happened when it return False it will stope the execution and throw an error\n",
        "print(\"hi\")\n",
        "assert 10<100,\"not raight\"\n",
        "print(\"hi\")"
      ],
      "metadata": {
        "colab": {
          "base_uri": "https://localhost:8080/"
        },
        "id": "0-ntUk3OVHn8",
        "outputId": "91dd5984-e013-41d9-9e7d-04448f9fe844"
      },
      "execution_count": 2,
      "outputs": [
        {
          "output_type": "stream",
          "name": "stdout",
          "text": [
            "hi\n",
            "hi\n"
          ]
        }
      ]
    }
  ],
  "metadata": {
    "accelerator": "GPU",
    "colab": {
      "provenance": [],
      "mount_file_id": "1Mo4m4YXiNZZ52plLlS-w1O1zsmjvbTD_",
      "authorship_tag": "ABX9TyOwbhurXqFiY1xhXYrnFGG1",
      "include_colab_link": true
    },
    "kernelspec": {
      "display_name": "Python 3",
      "name": "python3"
    },
    "language_info": {
      "name": "python"
    }
  },
  "nbformat": 4,
  "nbformat_minor": 0
}